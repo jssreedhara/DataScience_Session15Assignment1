{
 "cells": [
  {
   "cell_type": "code",
   "execution_count": 1,
   "metadata": {},
   "outputs": [
    {
     "name": "stdout",
     "output_type": "stream",
     "text": [
      "Rent Array : [1550 1700  900  850 1000  950]\n",
      "Average Rent in the Area is 1158.33\n",
      "Variance of the Rent in the Area is 112847.22\n",
      "Standard Deviation of the Rent in the Area is 335.93\n"
     ]
    }
   ],
   "source": [
    "# Session 15 - Statistics-- 1 by Sreedhara Jagatagar  Sreenivasa\n",
    "\n",
    "#Import Required Libraries.\n",
    "import numpy as np\n",
    "import pandas as pd\n",
    "import matplotlib.pyplot as plt\n",
    "%matplotlib inline\n",
    "\n",
    "#Problem Statement 1:  \n",
    "#You survey households in your area to find the average rent they are paying. Find the standard deviation from the following data: \n",
    "#$1550, $1700, $900, $850, $1000, $950. \n",
    "\n",
    "#Declare and assign Rent values\n",
    "rent_array=np.array([1550, 1700, 900, 850, 1000, 950])\n",
    "\n",
    "#Print the rent Array\n",
    "print('Rent Array :',rent_array)\n",
    "\n",
    "#Calculate Average Rent paying at the households in your area\n",
    "average_rent=np.mean(rent_array)\n",
    "\n",
    "#Print Avrage Rent\n",
    "print('Average Rent in the Area is {0:.2f}'.format(average_rent))\n",
    "\n",
    "#Calcualate and Print variance\n",
    "variance=np.var(rent_array)\n",
    "\n",
    "#Print the variances\n",
    "print('Variance of the Rent in the Area is {0:.2f}'.format(variance))\n",
    "\n",
    "#Calcualate and Print variance\n",
    "stdDev=np.std(rent_array)\n",
    "\n",
    "#Print the variances\n",
    "print('Standard Deviation of the Rent in the Area is {0:.2f}'.format(stdDev))\n"
   ]
  },
  {
   "cell_type": "code",
   "execution_count": 2,
   "metadata": {},
   "outputs": [
    {
     "name": "stdout",
     "output_type": "stream",
     "text": [
      "Tree Heights Array : [  3  21  98 203  17   9]\n",
      "Tree Heights Mean :58.50\n",
      "Tree Heights Variance :5183.25\n",
      "Tree Heights Standard Deviation :71.99\n"
     ]
    }
   ],
   "source": [
    "## Session 15 - Statistics-- 1 by Sreedhara Jagatagar  Sreenivasa\n",
    "\n",
    "#Problem Statement 2: \n",
    "#Find the variance for the following set of data representing trees in California (heights in feet):  \n",
    "#3, 21, 98, 203, 17, 9 \n",
    "\n",
    "#Declare and store Tree's hight in numpy array\n",
    "tree_heights_array=np.array([3,21,98,203,17,9])\n",
    "\n",
    "#Print the Tree Heights Array \n",
    "print ('Tree Heights Array :',tree_heights_array)\n",
    "\n",
    "#Calcuate and print the Tree heights mean\n",
    "tree_heights_mean=np.mean(tree_heights_array)\n",
    "print('Tree Heights Mean :{0:.2f}'.format(tree_heights_mean))\n",
    "\n",
    "#Calcuate and print the variance\n",
    "variance=np.var(tree_heights_array)\n",
    "print('Tree Heights Variance :{0:.2f}'.format(variance))\n",
    "\n",
    "#Calcuate and print the standard deviation\n",
    "stdDevi=np.std(tree_heights_array)\n",
    "print('Tree Heights Standard Deviation :{0:.2f}'.format(stdDevi))"
   ]
  },
  {
   "cell_type": "code",
   "execution_count": 40,
   "metadata": {},
   "outputs": [
    {
     "data": {
      "text/html": [
       "<div>\n",
       "<style scoped>\n",
       "    .dataframe tbody tr th:only-of-type {\n",
       "        vertical-align: middle;\n",
       "    }\n",
       "\n",
       "    .dataframe tbody tr th {\n",
       "        vertical-align: top;\n",
       "    }\n",
       "\n",
       "    .dataframe thead th {\n",
       "        text-align: right;\n",
       "    }\n",
       "</style>\n",
       "<table border=\"1\" class=\"dataframe\">\n",
       "  <thead>\n",
       "    <tr style=\"text-align: right;\">\n",
       "      <th></th>\n",
       "      <th>Sub_Failed</th>\n",
       "      <th>Probabalitis_of_Student_Failed</th>\n",
       "    </tr>\n",
       "  </thead>\n",
       "  <tbody>\n",
       "    <tr>\n",
       "      <th>0</th>\n",
       "      <td>0</td>\n",
       "      <td>0.80</td>\n",
       "    </tr>\n",
       "    <tr>\n",
       "      <th>1</th>\n",
       "      <td>1</td>\n",
       "      <td>0.10</td>\n",
       "    </tr>\n",
       "    <tr>\n",
       "      <th>2</th>\n",
       "      <td>2</td>\n",
       "      <td>0.07</td>\n",
       "    </tr>\n",
       "    <tr>\n",
       "      <th>3</th>\n",
       "      <td>3</td>\n",
       "      <td>0.03</td>\n",
       "    </tr>\n",
       "  </tbody>\n",
       "</table>\n",
       "</div>"
      ],
      "text/plain": [
       "   Sub_Failed  Probabalitis_of_Student_Failed\n",
       "0           0                            0.80\n",
       "1           1                            0.10\n",
       "2           2                            0.07\n",
       "3           3                            0.03"
      ]
     },
     "execution_count": 40,
     "metadata": {},
     "output_type": "execute_result"
    }
   ],
   "source": [
    "# Session 15 - Statistics- 1 by Sreedhara Jagatagar  Sreenivasa\n",
    "\n",
    "#Problem Statement 3: \n",
    "#In a class on 100 students, 80 students passed in all subjects, 10 failed in one subject, 7\n",
    "#failed in two subjects and 3 failed in three subjects. Find the probability distribution of\n",
    "#the variable for number of subjects a student from the given class has failed in.\n",
    "\n",
    "#Calcuate probabilites distributions\n",
    "Zero_Sub_Failed=80/100\n",
    "One_Sub_Failed= 10/100\n",
    "two_sub_Failed=7/100\n",
    "Three_sub_Failed=3/100\n",
    "\n",
    "#Define dataframe with Variable and Probabalitiies\n",
    "df_prob=pd.DataFrame({'Sub_Failed':[0,1,2,3],'Probabalitis_of_Student_Failed':[Zero_Sub_Failed,One_Sub_Failed,two_sub_Failed,Three_sub_Failed]})\n",
    "\n",
    "#Print Random student probabilities distributions\n",
    "df_prob"
   ]
  },
  {
   "cell_type": "code",
   "execution_count": 39,
   "metadata": {},
   "outputs": [
    {
     "data": {
      "image/png": "[encoded data removed]",
      "text/plain": [
       "<Figure size 432x288 with 1 Axes>"
      ]
     },
     "metadata": {
      "needs_background": "light"
     },
     "output_type": "display_data"
    }
   ],
   "source": [
    "#Display PLOT BAR for Probabalitis distributions to prsent\n",
    "plt.bar(df_prob.Sub_Failed,df_prob.Probabalitis_of_Student_Failed,width=.3)\n",
    "plt.xlabel('Number of Subject Failed')\n",
    "plt.ylabel('Probabalitis of Student Failed')\n",
    "plt.title('Probabilitis distribution of number of Subject in which Student Failed')\n",
    "plt.show()"
   ]
  }
 ],
 "metadata": {
  "kernelspec": {
   "display_name": "Python 3",
   "language": "python",
   "name": "python3"
  },
  "language_info": {
   "codemirror_mode": {
    "name": "ipython",
    "version": 3
   },
   "file_extension": ".py",
   "mimetype": "text/x-python",
   "name": "python",
   "nbconvert_exporter": "python",
   "pygments_lexer": "ipython3",
   "version": "3.6.6"
  }
 },
 "nbformat": 4,
 "nbformat_minor": 2
}
